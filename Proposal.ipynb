{
 "cells": [
  {
   "cell_type": "markdown",
   "metadata": {},
   "source": [
    "# Proposal\n",
    "\n",
    "## Visualizing Attitudes around Mental Health in the Tech Sector\n",
    "\n",
    "#### Authors: Linyang Yu, Alex Hope\n",
    "\n",
    "### Overview\n",
    "\n",
    "### Description of the data\n",
    "\n",
    " We are interested in the “Tech Mental Health Survey” dataset, which was a survey carried out in 2014 focusing on individual attitudes in the tech workplace towards mental health and mental health disorders related questions. Each responder/sample is required to provide some personal information anonymously, including: **Age**, **Gender**, **Country** (from), **state** (if from US), form of employment **self-employer**, whether they **work remotely**, whether they work in **tech company**, and if there have a **family history** of mental illness. Then the responder was asked some key questions related to mental health and mental health disorders and replied with his/her own answer/attitude on the issue. The following is a list of questions asked by the survey:\n",
    "\n",
    " \n",
    " | Questions in the survey | answer given by the responder |\n",
    " | :------------: | :---: |\n",
    " | Have you sought treatment for a mental health condition? | Yes/No |\n",
    " | If you have a mental health condition, do you feel that it interferes with your work? | NA/Never/Rare/Sometimes/Often |\n",
    " | Does your employer provide mental health benefits? | Yes/No/Don't Know |\n",
    " | Do you know the options for mental health care your employer provides? | Yes/No/Not Sure |\n",
    " | Has your employer ever discussed mental health as part of an employee wellness program? | Yes/No/Don't Know |\n",
    " | Does your employer provide resources to learn more about mental health issues and how to seek help? | Yes/No/Don't Know |\n",
    " | Is your anonymity protected if you choose to take advantage of mental health or substance abuse treatment resources? | Yes/No/Don't Know |\n",
    " | How easy is it for you to take medical leave for a mental health condition? | Very easy to Very difficult |\n",
    " | Do you think that discussing a mental health issue with your employer would have negative consequences? | Yes/No/May be |\n",
    " | Do you think that discussing a physical health issue with your employer would have negative consequences? | Yes/No/May be |\n",
    "\n",
    "### Usage scenario & tasks\n",
    "\n",
    "### Description of your app & sketch"
   ]
  },
  {
   "cell_type": "code",
   "execution_count": null,
   "metadata": {},
   "outputs": [],
   "source": []
  }
 ],
 "metadata": {
  "kernelspec": {
   "display_name": "R",
   "language": "R",
   "name": "ir"
  },
  "language_info": {
   "codemirror_mode": "r",
   "file_extension": ".r",
   "mimetype": "text/x-r-source",
   "name": "R",
   "pygments_lexer": "r",
   "version": "3.5.1"
  }
 },
 "nbformat": 4,
 "nbformat_minor": 2
}
