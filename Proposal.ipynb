{
 "cells": [
  {
   "cell_type": "markdown",
   "metadata": {},
   "source": [
    "# Proposal\n",
    "\n",
    "## Visualizing Attitudes & Awareness around Mental Health in the Tech Sector\n",
    "\n",
    "#### Authors: Linyang Yu, Alex Hope\n",
    "\n",
    "### Overview\n",
    "\n",
    "According to the World Health Organization (WHO), 1 in 4 individuals across the globe will meet diagnostic criteria for a mental disorder at some point in their lives. With more than 450 million currently suffering from a neurological disorder, mental illness is one of the leading causes of human suffering and represents an enormous economic and social burden on societies, including the companies that operate within them. \n",
    "\n",
    "There is growing recognition that company culture (ex. office design, social structure, benefits package, schedule flexibility, etc.) is *critical* for employee health, creativity, and overall productivity. As such, effective companies recognize it is in their best interests to improve practices for assessing illness and managing afflicted employees within the workplace. Correctly handling mental illness within company settings is further complicated by the harmful attitudes and stigma associated with mental disorders. These social aspects can erode trust within a company, particularly between managers and the employees they supervise. It may influence employee behaviors concerning whether they discuss a potential illness with co-workers and/or seek help to address it.\n",
    "\n",
    "To tackle this issue, we propose a visualization app for decision-makers within companies who have significant control over conditions we know are important for fostering mental health and resiliency. The app itself will display various predictors of mental health/illness, and those associated with health awareness/health-seeking behaviors in tech-based companies. We hope this tool will be utilized by managers in companies to re-shape company culture, identify early employee risk for illness, elevate employee education around health options and enhance openness and transparency about mental health within the workplace. We feel this app may enhance worker efficiency through improved employee well-being and reducing days lost to illness through improving how companies identify environmental conditions that predict both flourishing and illness, and how these illness can be handled effectively in the workplace.\n",
    "\n",
    "### Description of the data\n",
    "\n",
    "We are interested in the “Tech Mental Health Survey” dataset, which was a survey carried out in 2014 focusing on individual attitudes in the tech workplace towards mental health and mental illness related questions. Each responder/sample is required to provide some personal information anonymously, including: **Age**, **Gender**, **Country** (from), **state** (if from US), form of employment **self-employer**, whether they **work remotely**, whether they work in **tech company**, and if there have a **family history** of mental illness. Then the responder was asked some key questions related to mental health and mental health disorders and replied with his/her own answer/attitude on the issue. They also responded to a question about their sense of anonymity with disclosing mental health and physical health information within their company. The following is a list of questions asked by the survey:\n",
    "\n",
    " \n",
    " | Questions in the survey | answer given by the responder |\n",
    " | :------------: | :---: |\n",
    " | Have you sought treatment for a mental health condition? | Yes/No |\n",
    " | If you have a mental health condition, do you feel that it interferes with your work? | NA/Never/Rare/Sometimes/Often |\n",
    " | Does your employer provide mental health benefits? | Yes/No/Don't Know |\n",
    " | Do you know the options for mental health care your employer provides? | Yes/No/Not Sure |\n",
    " | Has your employer ever discussed mental health as part of an employee wellness program? | Yes/No/Don't Know |\n",
    " | Does your employer provide resources to learn more about mental health issues and how to seek help? | Yes/No/Don't Know |\n",
    " | Is your anonymity protected if you choose to take advantage of mental health or substance abuse treatment resources? | Yes/No/Don't Know |\n",
    " | How easy is it for you to take medical leave for a mental health condition? | Very easy to Very difficult |\n",
    " | Do you think that discussing a mental health issue with your employer would have negative consequences? | Yes/No/May be |\n",
    " | Do you think that discussing a physical health issue with your employer would have negative consequences? | Yes/No/May be |\n",
    "\n",
    "### Usage scenario & tasks\n",
    "\n",
    "* Brief Brainstorm for Ideas:\n",
    "    1. Visualizations of predictors for mental illness for employers (company product for managers- team culture assessments, worker literacy of mental health and company educational approach\n",
    "    2. Visualizing worker in-efficiency and days off due to mental illness (visualizations for man-hours lost, individuals on medical leave, etc.)\n",
    "    3. Stigma assessment tool (characterize extent of stigma (country/cultural, mental vs physical, ill-informed on mental health access). How does anonymity effect a) individuals likelihood to seek treatment b) use as a non-profit tool for applicants to gather past/current employee experience with company regarding mental health, access, work culture, etc.\n",
    "\n",
    "### Description of your app & sketch"
   ]
  },
  {
   "cell_type": "code",
   "execution_count": null,
   "metadata": {},
   "outputs": [],
   "source": []
  }
 ],
 "metadata": {
  "kernelspec": {
   "display_name": "R",
   "language": "R",
   "name": "ir"
  },
  "language_info": {
   "codemirror_mode": "r",
   "file_extension": ".r",
   "mimetype": "text/x-r-source",
   "name": "R",
   "pygments_lexer": "r",
   "version": "3.5.1"
  }
 },
 "nbformat": 4,
 "nbformat_minor": 2
}
