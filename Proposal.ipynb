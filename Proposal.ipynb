{
 "cells": [
  {
   "cell_type": "markdown",
   "metadata": {},
   "source": [
    "# Proposal\n",
    "\n",
    "## Visualizing Attitudes & Awareness around Mental Health in the Tech Sector\n",
    "\n",
    "#### Authors: Linyang Yu, Alex Hope\n",
    "\n",
    "### Overview\n",
    "\n",
    "According to the World Health Organization (WHO), 1 in 4 individuals across the globe will meet diagnostic criteria for a mental disorder at some point in their lives. With more than 450 million currently suffering from a neurological disorder, mental illness is one of the leading causes of human suffering and represents an enormous economic and social burden on societies, including the companies that operate within them. \n",
    "\n",
    "There is growing recognition that company culture (ex. office design, social structure, benefits package, schedule flexibility, etc.) is *critical* for employee health, creativity, and overall productivity. As such, effective companies recognize it is in their best interests to improve practices for assessing illness and managing afflicted employees within the workplace. Correctly handling mental illness within company settings is further complicated by the harmful attitudes and stigma associated with mental disorders. These social aspects can erode trust within a company, particularly between managers and the employees they supervise. They also may influence employee behaviors in so far as whether they feel comfortable to discuss an illness with co-workers and/or seek help to address it.\n",
    "\n",
    "To tackle this issue, we propose a visualization app for decision-makers within companies who have significant control over conditions we know are important for fostering mental health and resiliency. The app itself will display various predictors of mental health/illness, and factors associated with health awareness/health-seeking behaviors in tech-based companies. We hope this tool will be utilized by managers in these companies to examine their own company and consider both employee attitudes and the conditions in which they work. The information our app provides may help managers visualize how to re-shape company culture, identify early employee risk for illness, elevate employee awareness about benefits and generally enhance communication and openness about mental health within the workplace. The app could improve productivity outcomes by focusing on employee well-being and satisfaction as well as reduce the number of days lost to medical illness. It will also help managers and companies identify general trends that predict both flourishing and illness, and how illness can be handled more effectively in the workplace.\n",
    "\n",
    "### Description of the data\n",
    "\n",
    "We are interested in the “Tech Mental Health Survey” dataset, which was a survey carried out in 2014 focusing on individual attitudes in the tech workplace towards mental health and mental illness related questions. Each responder/sample is required to provide some personal information anonymously, including: **Age**, **Gender**, **Country** (from), **state** (if from US), form of employment **self-employer**, whether they **work remotely**, whether they work in **tech company**, and if there have a **family history** of mental illness. Then the responder was asked some key questions related to mental health and mental health disorders and replied with his/her own answer/attitude on the issue. They also responded to a question about their sense of anonymity with disclosing mental health and physical health information within their company. The following is a list of questions asked by the survey:\n",
    "\n",
    " \n",
    " | Questions in the survey | answer given by the responder |\n",
    " | :------------: | :---: |\n",
    " | Have you sought treatment for a mental health condition? | Yes/No |\n",
    " | If you have a mental health condition, do you feel that it interferes with your work? | NA/Never/Rare/Sometimes/Often |\n",
    " | Does your employer provide mental health benefits? | Yes/No/Don't Know |\n",
    " | Do you know the options for mental health care your employer provides? | Yes/No/Not Sure |\n",
    " | Has your employer ever discussed mental health as part of an employee wellness program? | Yes/No/Don't Know |\n",
    " | Does your employer provide resources to learn more about mental health issues and how to seek help? | Yes/No/Don't Know |\n",
    " | Is your anonymity protected if you choose to take advantage of mental health or substance abuse treatment resources? | Yes/No/Don't Know |\n",
    " | How easy is it for you to take medical leave for a mental health condition? | Very easy to Very difficult |\n",
    " | Do you think that discussing a mental health issue with your employer would have negative consequences? | Yes/No/May be |\n",
    " | Do you think that discussing a physical health issue with your employer would have negative consequences? | Yes/No/May be |\n",
    "\n",
    "### Usage scenario & tasks\n",
    "\n",
    "Carol is a high-ranking executive manager in human resources for a tech company who oversees employee operations across many branches in the United States. Her job is to develop procedures for personnel support across a range of issues employees may face within the organization, how to promote positive work environments within teams and develop protocol for HR managers to work with various employees regarding an issue so it can be handled effectively. At the ground level, HR personnel will implement her procedures to effectively document and manage emotional issues employees may have at work, educate employees on their benefits and coverage details, and direct individuals to helpful resources that can help alleviate a certain personal issue they have. \n",
    "\n",
    "She wants to be able to visualize data that will help her readily [explore] and [identify] predictive factors for: a) mental illness, b) employee literacy of benefits coverage, and c) employee attitudes about mental illness as well as it's communication in the workplace. Being able to visualize data that predicts both illness and health can provide a picture of the social culture and values she will want to instill at the ground level of her offices, and convey risk factors for illness she may want HR managers to be aware of. For example, the data may convey certain employee attitudes or benefits knowledge actually lead to proactive treatment-seeking and better outcomes. If this is the case she will want to promote these sentiments within her protocols by emphasizing self-modeling, team-building exercises, information sessions about benefits and access to care, and other methods that reinforce employee feelings of safety in their work environment with respect to mental health. \n",
    "\n",
    "She will want to have access to a wide range of variables at her disposal that can potentially predict her outcomes of interest (mental illness risk, benefits literacy, attitudes and stigma in workplace) and are translatable to her interests in improving social culture and employee well-being. In addition, some forms of mental health issues such as depression and anxiety disorders have been shown to manifest differently as a function of age, gender,family history, and geography(country). So, she can also examine how these predictors may change with respect to constraints on a range of demographic information and perhaps use these specifics for shaping protocols in regards to how HR managers handle employees with a range of different backgrounds. \n",
    "\n",
    "The overall goal of our visualization tool is to empower high-level managers like Carol as well as lower-level managers to make informed decisions around best company practices for managing employee mental health in the workplace. In Carol's case our goal is to have more personalized and actionable information get reflected in company protocols for addressing mental health concerns effectively. In the case of lower managers our goal may be to improve the day-to-day interactions, illness risk recognition, and educational offerings made by these individuals with the information we've outlined.\n",
    "\n",
    "\n",
    "\n",
    "### Description of your app & sketch"
   ]
  },
  {
   "cell_type": "code",
   "execution_count": null,
   "metadata": {},
   "outputs": [],
   "source": []
  }
 ],
 "metadata": {
  "kernelspec": {
   "display_name": "R",
   "language": "R",
   "name": "ir"
  },
  "language_info": {
   "codemirror_mode": "r",
   "file_extension": ".r",
   "mimetype": "text/x-r-source",
   "name": "R",
   "pygments_lexer": "r",
   "version": "3.5.1"
  }
 },
 "nbformat": 4,
 "nbformat_minor": 2
}
