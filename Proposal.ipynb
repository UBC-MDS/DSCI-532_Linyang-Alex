{
 "cells": [
  {
   "cell_type": "markdown",
   "metadata": {},
   "source": [
    "# Proposal\n",
    "\n",
    "## Visualizing Attitudes & Awareness around Mental Health in the Tech Sector\n",
    "\n",
    "#### Authors: Linyang Yu, Alex Hope\n",
    "\n",
    "### Overview\n",
    "\n",
    "### Description of the data\n",
    "\n",
    " We are interested in the “Tech Mental Health Survey” dataset, which was a survey carried out in 2014 focusing on individual attitudes in the tech workplace towards mental health and mental illness related questions. Each responder/sample is required to provide some personal information anonymously, including: **Age**, **Gender**, **Country** (from), **state** (if from US), form of employment **self-employer**, whether they **work remotely**, whether they work in **tech company**, and if there have a **family history** of mental illness. Then the responder was asked some key questions related to mental health and mental health disorders and replied with his/her own answer/attitude on the issue. They also responded to a question about their sense of anonymity with disclosing mental health and physical health information within their company. The following is a list of questions asked by the survey:\n",
    "\n",
    " \n",
    " | Questions in the survey | answer given by the responder |\n",
    " | :------------: | :---: |\n",
    " | Have you sought treatment for a mental health condition? | Yes/No |\n",
    " | If you have a mental health condition, do you feel that it interferes with your work? | NA/Never/Rare/Sometimes/Often |\n",
    " | Does your employer provide mental health benefits? | Yes/No/Don't Know |\n",
    " | Do you know the options for mental health care your employer provides? | Yes/No/Not Sure |\n",
    " | Has your employer ever discussed mental health as part of an employee wellness program? | Yes/No/Don't Know |\n",
    " | Does your employer provide resources to learn more about mental health issues and how to seek help? | Yes/No/Don't Know |\n",
    " | Is your anonymity protected if you choose to take advantage of mental health or substance abuse treatment resources? | Yes/No/Don't Know |\n",
    " | How easy is it for you to take medical leave for a mental health condition? | Very easy to Very difficult |\n",
    " | Do you think that discussing a mental health issue with your employer would have negative consequences? | Yes/No/May be |\n",
    " | Do you think that discussing a physical health issue with your employer would have negative consequences? | Yes/No/May be |\n",
    "\n",
    "### Usage scenario & tasks\n",
    "\n",
    "* Brief Brainstorm for Ideas:\n",
    "    1. Visualizations of predictors for mental illness for employers (company product for managers- team culture assessments, worker literacy of mental health and company educational approach\n",
    "    2. Visualizing worker in-efficiency and days off due to mental illness (visualizations for man-hours lost, individuals on medical leave, etc.)\n",
    "    3. Stigma assessment tool (characterize extent of stigma (country/cultural, mental vs physical, ill-informed on mental health access). How does anonymity effect a) individuals likelihood to seek treatment b) use as a non-profit tool for applicants to gather past/current employee experience with company regarding mental health, access, work culture, etc.\n",
    "\n",
    "### Description of your app & sketch"
   ]
  },
  {
   "cell_type": "code",
   "execution_count": null,
   "metadata": {},
   "outputs": [],
   "source": []
  }
 ],
 "metadata": {
  "kernelspec": {
   "display_name": "R",
   "language": "R",
   "name": "ir"
  },
  "language_info": {
   "codemirror_mode": "r",
   "file_extension": ".r",
   "mimetype": "text/x-r-source",
   "name": "R",
   "pygments_lexer": "r",
   "version": "3.5.1"
  }
 },
 "nbformat": 4,
 "nbformat_minor": 2
}
