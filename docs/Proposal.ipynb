{
 "cells": [
  {
   "cell_type": "markdown",
   "metadata": {},
   "source": [
    "# Proposal\n",
    "\n",
    "## Visualizing Attitudes & Awareness around Mental Health in the Tech Sector\n",
    "\n",
    "#### Authors: Linyang Yu, Alex Hope\n",
    "\n",
    "### Overview\n",
    "\n",
    "According to the World Health Organization (WHO), 1 in 4 individuals across the globe will meet diagnostic criteria for a mental disorder at some point in their lives. With more than 450 million currently suffering from a neurological disorder, mental illness is one of the leading causes of human suffering and represents an enormous economic and social burden on societies, including the companies that operate within them. \n",
    "\n",
    "There is growing recognition that company culture (ex. office design, social structure, benefits package, schedule flexibility, etc.) is *critical* for employee health, creativity, and overall productivity. As such, effective companies recognize it is in their best interests to improve practices for assessing illness and managing afflicted employees within the workplace. Correctly handling mental illness within company settings is further complicated by the harmful attitudes and stigma associated with mental disorders. These social aspects can erode trust within a company, particularly between managers and the employees they supervise. They also may influence employee behaviors in so far as whether they feel comfortable to discuss an illness with co-workers and/or seek help to address it.\n",
    "\n",
    "To tackle this issue, we propose a visualization app for decision-makers within companies who have significant control over conditions we know are important for fostering mental health and resiliency. The app itself will display various predictors of mental health/illness, and factors associated with health awareness/health-seeking behaviors in tech-based companies. We hope this tool will be utilized by managers in these companies to examine their own company and consider both employee attitudes and the conditions in which they work. The information our app provides may help managers visualize how to re-shape company culture, identify early employee risk for illness, elevate employee awareness about benefits and generally enhance communication and openness about mental health within the workplace. The app could improve productivity outcomes by focusing on employee well-being and satisfaction as well as reduce the number of days lost to medical illness. It will also help managers and companies identify general trends that predict both flourishing and illness, and how illness can be handled more effectively in the workplace.\n",
    "\n",
    "### Description of the data\n",
    "\n",
    "We are interested in the “Tech Mental Health Survey” dataset, which was a survey carried out in 2014 focusing on individual attitudes in the tech workplace towards mental health and mental illness related questions. Each responder/sample is required to provide some personal information anonymously, including: **Age**, **Gender**, **Country** (from), **state** (if from US), form of employment **self-employer**, whether they **work remotely**, whether they work in **tech company**, and if there have a **family history** of mental illness. Then the responder was asked some key questions related to mental health and mental health disorders and replied with his/her own answer/attitude on the issue. They also responded to a question about their sense of anonymity with disclosing mental health and physical health information within their company. The following is a list of questions asked by the survey:\n",
    "\n",
    " \n",
    " | Questions in the survey | answer given by the responder |\n",
    " | :------------: | :---: |\n",
    " | Have you sought treatment for a mental health condition? | Yes/No |\n",
    " | If you have a mental health condition, do you feel that it interferes with your work? | NA/Never/Rare/Sometimes/Often |\n",
    " | Does your employer provide mental health benefits? | Yes/No/Don't Know |\n",
    " | Do you know the options for mental health care your employer provides? | Yes/No/Not Sure |\n",
    " | Has your employer ever discussed mental health as part of an employee wellness program? | Yes/No/Don't Know |\n",
    " | Does your employer provide resources to learn more about mental health issues and how to seek help? | Yes/No/Don't Know |\n",
    " | Is your anonymity protected if you choose to take advantage of mental health or substance abuse treatment resources? | Yes/No/Don't Know |\n",
    " | How easy is it for you to take medical leave for a mental health condition? | Very easy to Very difficult |\n",
    " | Do you think that discussing a mental health issue with your employer would have negative consequences? | Yes/No/May be |\n",
    " | Do you think that discussing a physical health issue with your employer would have negative consequences? | Yes/No/May be |\n",
    "\n",
    "### Usage scenario & tasks\n",
    "\n",
    "Carol is a high-ranking executive manager in human resources for a tech company who oversees employee operations across many branches in the United States. Her job is to develop procedures for personnel support across a range of issues employees may face within the organization, how to promote positive work environments within teams, screening assessments for hiring, and develop protocol for HR managers to work with employees on an issue so it can be handled appropriately. At the ground level, HR personnel will implement her procedures to effectively document and manage emotional issues employees may have at work, educate employees on their benefits and coverage details, and direct individuals to helpful resources that can help alleviate a certain personal issue they have. \n",
    "\n",
    "She wants to be able to visualize data that will help her readily [explore] summary statistics of single variables and [identify] predictive factors between multiple variables related to: a) mental illness risk, b) employee literacy of benefits coverage, and c) employee attitudes about mental illness as well as it's communication in the workplace. Being able to visualize data that predicts both illness and health can provide a picture of the social culture and values she will want to instill at the ground level of her offices, and convey risk factors for illness she may want HR managers to be aware of while engaging individuals. For example, the data may convey certain employee attitudes or benefits knowledge actually lead to proactive treatment-seeking and better outcomes. If this is the case she will want to promote these sentiments within her protocols by emphasizing self-modeling, team-building exercises, information sessions about benefits and access to care, and other methods that reinforce employee feelings of safety in their work environment with respect to mental health. At a more general level our app also encourages companies to continually survey employee satisfaction, and use this information to refine their approach in the future.\n",
    "\n",
    "For Carol, she will want to have access to a wide range of variables at her disposal that can potentially predict her outcomes of interest: a) mental illness risk, b) benefits literacy, c) attitudes and stigma in workplace and are translatable to her goals of improving workplace culture and employee well-being. Some mental disorders such as depression and anxiety disorders have been shown to manifest quite differently as a function of age, gender,family history, and/or geography (country). Carol can examine how these predictors may change with respect to constraints on a range of demographic information through the use of filtering, and perhaps use these specifics for shaping protocols in regards to how lower managers handle employees with diverse backgrounds (ex. 22 years old, male, no history of illness, Japanese **vs** 64 year old, female, history of illness, American). With respect to attitudes, she will likely want to view how her predictors potentially change through the lens of workplace anonymity (yes, no, uncertain, all), which will exist as a sliding categorical feature on the left hand side of the dashboard with the other filterable demographic features. In addition, mental health can be sensitive to a range of cultural factors. As a result, we intend to provide geographic information to Carol in the form of a map that allows her to view the information we've described by country (ex. Sweden) and in the case of the United States, by state as well (ex. Texas vs New York) so she can compare predictors at different organizational branch locations around the globe.\n",
    "\n",
    "The overall goal of our visualization tool is to not only empower high-level managers like Carol but also lower-level managers to make informed decisions around company practices for managing employee mental health in the workplace. In Carol's case we want to have more personalized and actionable information make it's way into company protocols for addressing mental health concerns effectively, and have these insights applied at the ground level. In the case of lower managers our goal may be to improve day-to-day employee interactions, illness risk recognition, and educational offerings made by team leaders using the information we've outlined above. Human interactions are extremely complex processes, particularly in workplace settings where professionalism is paramount. We hope that our tool will make it easier for human resource managers to address the complexities of employee mental health, and provide more opportunities for proactive decisions that support healthier minds and human relationships. \n",
    "\n",
    "\n",
    "\n",
    "### Description of your app & sketch\n",
    "\n",
    "The app contain a condition selection section and three different plot representation section. \n",
    "In the condition selection section, the user can select the question that they are mainly interested in as **`Question-main`**, that includes all the questions involved in the survey. Users are also encouraged to select a **sub question** to compare the correlation between the data. **Age** factor represents the age of the survey responser, and it can be set as a range value since user might interested in the attitude for people with certain age. **Gender** can be selected as will. If there is no preference for the gender, put the slider bar in the middle and it will include all the datas. Whether the survey responser has a **family history** of mental health can also influence their attitude towards questions, thus it will also be set as a conditional factor just like the gender. **Working Freedom** is a factor defined by ourselves, it represents how free the responser’s working condition. In the original survey, the responser is required to answer if they are self employed, whether they work remotely, etc. We converted those answers to 1 or 0, and sum up the score. The final score can be defined as a person’s working freedom. \n",
    "After the conditions are set, the world map on the right will work as a density map. All the answers for the questions are converted to a score (-1, 0, 1), and the final average score will shown on the map in terms of colors. A deeper color on the map represents a high score, and, briefly speaking, a more positive attitude towards the question. \n",
    "The main challenge for our project is how to make the map interactive. We are hopping, by clicking certain area on the map, we can make a bar plot based on the data for that specific country on the bottom left. The bar plot will contain the data distribution of the main question. If there is a sub question selected (the user want to do parallel compare), there will be a grouped bar plot. However, the height of the bar can only represent the score. As mentioned before, the score is calculated based on the answers: yes, maybe, and no. The barplot can be interactive, and if we click certain bar, a pie plot will shown on the right and represents the proportion of different answers. \n",
    "\n",
    "<img src=\"blueprint.png\">"
   ]
  },
  {
   "cell_type": "code",
   "execution_count": null,
   "metadata": {},
   "outputs": [],
   "source": []
  }
 ],
 "metadata": {
  "kernelspec": {
   "display_name": "R",
   "language": "R",
   "name": "ir"
  },
  "language_info": {
   "codemirror_mode": "r",
   "file_extension": ".r",
   "mimetype": "text/x-r-source",
   "name": "R",
   "pygments_lexer": "r",
   "version": "3.5.1"
  }
 },
 "nbformat": 4,
 "nbformat_minor": 2
}
